{
 "cells": [
  {
   "cell_type": "code",
   "execution_count": null,
   "id": "e3acdeaa",
   "metadata": {},
   "outputs": [],
   "source": [
    "# !pip install -r requirements.txt\n",
    "\n",
    "LINKS = [\n",
    "     'https://pbs.twimg.com/media/E7okHDEVUAE1O6i?format=jpg&name=orig',\n",
    "     'https://pbs.twimg.com/media/E7jaibgUcAUWvg-?format=jpg&name=orig',\n",
    "     'https://pbs.twimg.com/media/E7jahEbUcAMNLdU?format=jpg&name=orig',\n",
    "     'https://pbs.twimg.com/media/E7Jqli9VEAEStvs?format=jpg&name=orig',\n",
    "     'https://pbs.twimg.com/media/E7Jqk-aUcAcfg3o?format=jpg&name=orig',\n",
    "     'https://pbs.twimg.com/media/E7EhGi2XoAsMrO5?format=jpg&name=orig',\n",
    "     'https://pbs.twimg.com/media/E5dhLccUYAUD5Yx?format=jpg&name=orig',\n",
    "     'https://pbs.twimg.com/media/E5TOAqUVUAMckXT?format=jpg&name=orig',\n",
    "     'https://pbs.twimg.com/media/E4vK6e0VgAAksnK?format=jpg&name=orig',\n",
    "     'https://pbs.twimg.com/media/E4Va7u4VkAAKde3?format=jpg&name=orig',\n",
    "     'https://pbs.twimg.com/media/E4A0ksEUYAIpynP?format=jpg&name=orig',\n",
    "     'https://pbs.twimg.com/media/E3xXzcyUYAIX1dC?format=jpg&name=orig',\n",
    "     'https://pbs.twimg.com/media/E2zkvONVcAQEE_S?format=jpg&name=orig',\n",
    "     'https://pbs.twimg.com/media/E1cBsxDUcAIe_LZ?format=jpg&name=orig',\n",
    "     'https://pbs.twimg.com/media/E1W4HTRVUAgYkmo?format=jpg&name=orig',\n",
    "     'https://pbs.twimg.com/media/E1HbVAeVIAId5yP?format=jpg&name=orig',\n",
    "     'https://pbs.twimg.com/media/E09INVFUcAYpcWo?format=jpg&name=orig',\n",
    "     'https://pbs.twimg.com/media/E0oh0hmUUAAfJV9?format=jpg&name=orig'\n",
    "]\n",
    "IMG_LINK = LINKS[4]"
   ]
  },
  {
   "cell_type": "code",
   "execution_count": null,
   "id": "dd9ecf35",
   "metadata": {},
   "outputs": [],
   "source": [
    "import face_recognition\n",
    "import matplotlib.pyplot as plt\n",
    "from urllib.request import urlopen\n",
    "import io\n",
    "import numpy as np\n",
    "from PIL import Image, ImageDraw, ImageOps\n",
    "from pprint import pprint\n",
    "from pylab import rcParams\n",
    "\n",
    "rcParams['figure.figsize'] = 30,30"
   ]
  },
  {
   "cell_type": "code",
   "execution_count": null,
   "id": "96e5ea47",
   "metadata": {},
   "outputs": [],
   "source": [
    "fd = urlopen(IMG_LINK)\n",
    "img_buf = io.BytesIO(fd.read())"
   ]
  },
  {
   "cell_type": "code",
   "execution_count": null,
   "id": "c84f2b1c",
   "metadata": {},
   "outputs": [],
   "source": [
    "f_img: np.ndarray = face_recognition.load_image_file(img_buf)\n",
    "face_locations = face_recognition.face_locations(f_img)\n",
    "face_landmarks_list = face_recognition.face_landmarks(f_img)"
   ]
  },
  {
   "cell_type": "code",
   "execution_count": null,
   "id": "48b78cd0",
   "metadata": {},
   "outputs": [],
   "source": [
    "plt.imshow(f_img)"
   ]
  },
  {
   "cell_type": "code",
   "execution_count": null,
   "id": "ace7555d",
   "metadata": {},
   "outputs": [],
   "source": [
    "print(\"detected: %d face(s)\"%len(face_locations))\n",
    "for idx, (loc, land) in enumerate(zip(face_locations, face_landmarks_list)):\n",
    "    print(\"face %02d: %s\"%(idx,loc))\n",
    "    pprint(land[\"left_eye\"])\n",
    "    pprint(land[\"right_eye\"])\n",
    "    l_e, r_e = land[\"left_eye\"][0], land[\"right_eye\"][0]\n",
    "    mid_face=((l_e[0]+r_e[0])/2, (l_e[1]+r_e[1])/2,)\n",
    "    print(\"middle forehead:\", mid_face)"
   ]
  },
  {
   "cell_type": "code",
   "execution_count": null,
   "id": "2d1f2b01",
   "metadata": {
    "scrolled": true
   },
   "outputs": [],
   "source": [
    "d=Image.fromarray(f_img)\n",
    "s=d.size\n",
    "print(\"w,h:\",d.size)\n",
    "draw = ImageDraw.Draw(d)\n",
    "mid_faces=[]\n",
    "for idx, ((top, right, bottom, left),land) in enumerate(zip(face_locations, face_landmarks_list)):\n",
    "    name = str(\"%02d\"%idx)\n",
    "    \n",
    "    draw.rectangle(((left, top), (right, bottom)), outline=(0, 0, 255))\n",
    "    text_width, text_height = draw.textsize(name)\n",
    "    draw.rectangle(((left, bottom - text_height - 10), (right, bottom)), fill=(0, 0, 255), outline=(0, 0, 255))\n",
    "    draw.text((left + 6, bottom - text_height - 5), name, fill=(255, 255, 255, 255))\n",
    "\n",
    "    l_e, r_e = land[\"left_eye\"][0], land[\"right_eye\"][-1]\n",
    "    mid_face=((l_e[0]+r_e[0])/2, (l_e[1]+r_e[1])/2,)\n",
    "    mid_faces.append(mid_face)\n",
    "    draw.line(((mid_face[0], -10), mid_face, (mid_face[0], d.size[0])), fill=(255, 255, 0), width=10)\n",
    "del draw\n",
    "plt.imshow(d)"
   ]
  },
  {
   "cell_type": "code",
   "execution_count": null,
   "id": "e84d1c98",
   "metadata": {},
   "outputs": [],
   "source": [
    "for idx, face_location in enumerate(face_locations):\n",
    "    top, right, bottom, left = face_location\n",
    "    print(\"face %02d: (%d,%d), (%d,%d)\"%(idx+1, *face_location))\n",
    "    cropped_face_img = f_img[top:bottom, left:right]\n",
    "    pil_img = Image.fromarray(cropped_face_img)\n",
    "    plt.imshow(pil_img)"
   ]
  },
  {
   "cell_type": "code",
   "execution_count": null,
   "id": "d1990063",
   "metadata": {},
   "outputs": [],
   "source": [
    "def get_concat_h(im1, im2):\n",
    "    dst = Image.new('RGB', (im1.width + im2.width, im1.height))\n",
    "    dst.paste(im1, (0, 0))\n",
    "    dst.paste(im2, (im1.width, 0))\n",
    "    return dst\n",
    "fig = plt.figure()\n",
    "\n",
    "mid_face = mid_faces[0]\n",
    "cropped_left_img = f_img[0:s[1],0:int(mid_face[0])]\n",
    "\n",
    "pil_img = Image.fromarray(cropped_left_img)\n",
    "fig.add_subplot(2, 2, 1)\n",
    "plt.imshow(get_concat_h(pil_img,ImageOps.mirror(pil_img)))\n",
    "fig.add_subplot(2, 2, 2)\n",
    "plt.imshow(get_concat_h(ImageOps.mirror(pil_img),pil_img))\n",
    "\n",
    "cropped_right_img = f_img[0:s[1],int(mid_face[0]):s[0]]\n",
    "pil_img = Image.fromarray(cropped_right_img)\n",
    "fig.add_subplot(2, 2, 3)\n",
    "plt.imshow(get_concat_h(pil_img,ImageOps.mirror(pil_img)))\n",
    "fig.add_subplot(2, 2, 4)\n",
    "plt.imshow(get_concat_h(ImageOps.mirror(pil_img),pil_img))"
   ]
  }
 ],
 "metadata": {
  "kernelspec": {
   "display_name": "Python 3 (ipykernel)",
   "language": "python",
   "name": "python3"
  },
  "language_info": {
   "codemirror_mode": {
    "name": "ipython",
    "version": 3
   },
   "file_extension": ".py",
   "mimetype": "text/x-python",
   "name": "python",
   "nbconvert_exporter": "python",
   "pygments_lexer": "ipython3",
   "version": "3.9.2"
  }
 },
 "nbformat": 4,
 "nbformat_minor": 5
}
